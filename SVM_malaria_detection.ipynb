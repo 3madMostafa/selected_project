{
  "cells": [
    {
      "cell_type": "markdown",
      "metadata": {
        "id": "view-in-github",
        "colab_type": "text"
      },
      "source": [
        "<a href=\"https://colab.research.google.com/github/3madMostafa/selected_project/blob/main/SVM_malaria_detection.ipynb\" target=\"_parent\"><img src=\"https://colab.research.google.com/assets/colab-badge.svg\" alt=\"Open In Colab\"/></a>"
      ]
    },
    {
      "cell_type": "markdown",
      "metadata": {
        "id": "faZkbwSGmwkA"
      },
      "source": [
        "kaggle API"
      ]
    },
    {
      "cell_type": "code",
      "execution_count": null,
      "metadata": {
        "id": "dz8Aet2Er_MY"
      },
      "outputs": [],
      "source": [
        "#import os\n",
        "#os.environ ['KAGGLE_CONFIG_DIR']= '/content'"
      ]
    },
    {
      "cell_type": "code",
      "execution_count": null,
      "metadata": {
        "id": "Gk1V10rFr_J2"
      },
      "outputs": [],
      "source": [
        "#!kaggle datasets download -d iarunava/cell-images-for-detecting-malaria"
      ]
    },
    {
      "cell_type": "code",
      "execution_count": null,
      "metadata": {
        "id": "fMehDGgvr_HJ"
      },
      "outputs": [],
      "source": [
        "#!unzip \\*.zip && rm *.zip"
      ]
    },
    {
      "cell_type": "markdown",
      "metadata": {
        "id": "4Miko1nNm3Q0"
      },
      "source": [
        "importing libraries"
      ]
    },
    {
      "cell_type": "code",
      "execution_count": null,
      "metadata": {
        "colab": {
          "base_uri": "https://localhost:8080/"
        },
        "id": "cgzYSPNnvWb2",
        "outputId": "cae72cff-ae7a-45bf-cd25-7b8049fe232a"
      },
      "outputs": [
        {
          "output_type": "stream",
          "name": "stdout",
          "text": [
            "[]\n"
          ]
        }
      ],
      "source": [
        "import numpy as np\n",
        "import pandas as pd\n",
        "import cv2\n",
        "import matplotlib.pyplot as plt\n",
        "from PIL import Image\n",
        "import os\n",
        "print(os.listdir(\"/content/Untitled Folder\"))"
      ]
    },
    {
      "cell_type": "markdown",
      "metadata": {
        "id": "7xwBEIC9oYJz"
      },
      "source": [
        "Data preprocessing and Data AUGMENTATION and Data extraction"
      ]
    },
    {
      "cell_type": "code",
      "execution_count": null,
      "metadata": {
        "id": "HbsfwzlGOzHF",
        "colab": {
          "base_uri": "https://localhost:8080/"
        },
        "outputId": "f2eba335-4bb3-40e4-bd2d-4d19df7c9dc6"
      },
      "outputs": [
        {
          "output_type": "stream",
          "name": "stdout",
          "text": [
            "\n",
            "\n"
          ]
        }
      ],
      "source": [
        "x = list()\n",
        "y = list()\n",
        "\n",
        "infected = os.listdir('/content/Untitled Folder/cell_images/Parasitized/') \n",
        "uninfected = os.listdir('/content/Untitled Folder/cell_images/Uninfected/')\n",
        "\n",
        "\n",
        "for i in infected:\n",
        "    try:\n",
        "    \n",
        "        image = cv2.imread(\"/content/Untitled Folder/cell_images/Parasitized/\"+i)\n",
        "        image_array = Image.fromarray(image , 'RGB')\n",
        "        resize_img = image_array.resize((70 , 70))\n",
        "        rotated45 = resize_img.rotate(45)\n",
        "        rotated75 = resize_img.rotate(75)\n",
        "        blur = cv2.blur(np.array(resize_img) ,(10,10))\n",
        "        x.append(np.array(resize_img))\n",
        "        x.append(np.array(rotated45))\n",
        "        x.append(np.array(rotated75))\n",
        "        x.append(np.array(blur))\n",
        "        y.append(1)\n",
        "        y.append(1)\n",
        "        y.append(1)\n",
        "        y.append(1)\n",
        "        \n",
        "    except AttributeError:\n",
        "        print('')\n",
        "    \n",
        "for u in uninfected:\n",
        "    try:\n",
        "        \n",
        "        image = cv2.imread(\"/content/Untitled Folder/cell_images/Uninfected/\"+u)\n",
        "        image_array = Image.fromarray(image , 'RGB')\n",
        "        resize_img = image_array.resize((70 , 70))\n",
        "        rotated45 = resize_img.rotate(45)\n",
        "        rotated75 = resize_img.rotate(75)\n",
        "        x.append(np.array(resize_img))\n",
        "        x.append(np.array(rotated45))\n",
        "        x.append(np.array(rotated75))\n",
        "        y.append(0)\n",
        "        y.append(0)\n",
        "        y.append(0)\n",
        "        \n",
        "    except AttributeError:\n",
        "        print('')\n",
        "\n",
        "x = np.array(x)\n",
        "y = np.array(y)"
      ]
    },
    {
      "cell_type": "markdown",
      "metadata": {
        "id": "bFuIvciyED8p"
      },
      "source": [
        "reshapeing data"
      ]
    },
    {
      "cell_type": "code",
      "execution_count": null,
      "metadata": {
        "id": "ekIbyz8jDG18"
      },
      "outputs": [],
      "source": [
        "x = x.reshape(x.shape[0],x.shape[1]*x.shape[2]*x.shape[3])\n"
      ]
    },
    {
      "cell_type": "markdown",
      "metadata": {
        "id": "dqy8CXnLouwu"
      },
      "source": [
        "Data splitting"
      ]
    },
    {
      "cell_type": "code",
      "execution_count": null,
      "metadata": {
        "id": "XNrE-XoavcVN"
      },
      "outputs": [],
      "source": [
        "from sklearn.model_selection import train_test_split\n",
        "x_train,x_test,y_train,y_test = train_test_split(x,y,test_size = 0.3,random_state = 42)"
      ]
    },
    {
      "cell_type": "markdown",
      "metadata": {
        "id": "FF_STrCIFqig"
      },
      "source": [
        "#svm model\n",
        "![image.png](data:image/png;base64,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)"
      ]
    },
    {
      "cell_type": "code",
      "execution_count": null,
      "metadata": {
        "id": "1uzem7bC7W3l"
      },
      "outputs": [],
      "source": [
        "from sklearn.svm import SVC\n",
        "from sklearn.metrics import accuracy_score"
      ]
    },
    {
      "cell_type": "code",
      "execution_count": null,
      "metadata": {
        "colab": {
          "base_uri": "https://localhost:8080/"
        },
        "id": "GI9OTJA_xc28",
        "outputId": "729a11d3-a2ec-46b7-f232-f512a22c7d95"
      },
      "outputs": [
        {
          "output_type": "stream",
          "name": "stdout",
          "text": [
            "[LibSVM]"
          ]
        },
        {
          "output_type": "stream",
          "name": "stderr",
          "text": [
            "/usr/local/lib/python3.8/dist-packages/sklearn/svm/_base.py:284: ConvergenceWarning: Solver terminated early (max_iter=100).  Consider pre-processing your data with StandardScaler or MinMaxScaler.\n",
            "  warnings.warn(\n"
          ]
        },
        {
          "output_type": "execute_result",
          "data": {
            "text/plain": [
              "SVC(gamma='auto', kernel='poly', max_iter=100, random_state=32, verbose=True)"
            ]
          },
          "metadata": {},
          "execution_count": 9
        }
      ],
      "source": [
        "model_svc = SVC(kernel= 'poly',degree=3,max_iter=100,C=1.0,gamma='auto',verbose=True,random_state=32)\n",
        "model_svc.fit(x_train, y_train)"
      ]
    },
    {
      "cell_type": "code",
      "execution_count": null,
      "metadata": {
        "id": "SvxDIWN07sED"
      },
      "outputs": [],
      "source": [
        "pred = model_svc.predict(x_test)"
      ]
    },
    {
      "cell_type": "code",
      "execution_count": null,
      "metadata": {
        "colab": {
          "base_uri": "https://localhost:8080/"
        },
        "id": "vUoFRkav7r8q",
        "outputId": "c4d6c3ac-bc40-4904-8ead-3498a2b4d7a6"
      },
      "outputs": [
        {
          "output_type": "execute_result",
          "data": {
            "text/plain": [
              "0.6606303566491568"
            ]
          },
          "metadata": {},
          "execution_count": 31
        }
      ],
      "source": [
        "accuracy_score(y_test, pred)"
      ]
    },
    {
      "cell_type": "code",
      "execution_count": null,
      "metadata": {
        "id": "byzNd7yC7r3H",
        "colab": {
          "base_uri": "https://localhost:8080/"
        },
        "outputId": "b238f17e-b0d0-4751-cfbe-e39fc69f4cb5"
      },
      "outputs": [
        {
          "output_type": "stream",
          "name": "stdout",
          "text": [
            "confusion matrix \n",
            " [[ 7072  5225]\n",
            " [ 4595 12044]]\n"
          ]
        }
      ],
      "source": [
        "from sklearn.metrics import confusion_matrix\n",
        "cm = confusion_matrix(y_test , pred)\n",
        "print('confusion matrix \\n',  cm)"
      ]
    },
    {
      "cell_type": "code",
      "execution_count": null,
      "metadata": {
        "id": "Rb3KUmoY7r1T",
        "colab": {
          "base_uri": "https://localhost:8080/",
          "height": 268
        },
        "outputId": "a43bd27d-eb4c-4b53-81c0-76db68d1e462"
      },
      "outputs": [
        {
          "output_type": "display_data",
          "data": {
            "text/plain": [
              "<Figure size 432x288 with 2 Axes>"
            ],
            "image/png": "[encoded data removed]"
          },
          "metadata": {
            "needs_background": "light"
          }
        }
      ],
      "source": [
        "import seaborn as sns\n",
        "sns.heatmap(cm, center=True)\n",
        "plt.show()"
      ]
    },
    {
      "cell_type": "code",
      "source": [
        "from sklearn.metrics import classification_report\n",
        "pred = model_svc.predict(x_test)\n",
        "y_labels = (pred > 0.5).astype(np.int)\n",
        "\n",
        "print(classification_report(y_test, y_labels))"
      ],
      "metadata": {
        "id": "jMcr9-fbwvch",
        "outputId": "923f545e-ee91-4026-e303-a6a0ebd749c8",
        "colab": {
          "base_uri": "https://localhost:8080/"
        }
      },
      "execution_count": null,
      "outputs": [
        {
          "output_type": "stream",
          "name": "stdout",
          "text": [
            "              precision    recall  f1-score   support\n",
            "\n",
            "           0       0.61      0.58      0.59     12297\n",
            "           1       0.70      0.72      0.71     16639\n",
            "\n",
            "    accuracy                           0.66     28936\n",
            "   macro avg       0.65      0.65      0.65     28936\n",
            "weighted avg       0.66      0.66      0.66     28936\n",
            "\n"
          ]
        },
        {
          "output_type": "stream",
          "name": "stderr",
          "text": [
            "<ipython-input-36-38f3d028fe8b>:3: DeprecationWarning: `np.int` is a deprecated alias for the builtin `int`. To silence this warning, use `int` by itself. Doing this will not modify any behavior and is safe. When replacing `np.int`, you may wish to use e.g. `np.int64` or `np.int32` to specify the precision. If you wish to review your current use, check the release note link for additional information.\n",
            "Deprecated in NumPy 1.20; for more details and guidance: https://numpy.org/devdocs/release/1.20.0-notes.html#deprecations\n",
            "  y_labels = (pred > 0.5).astype(np.int)\n"
          ]
        }
      ]
    },
    {
      "cell_type": "markdown",
      "source": [
        "🍘 Computing Area Under Curve (AUC)"
      ],
      "metadata": {
        "id": "kFc5lYNSw8vc"
      }
    },
    {
      "cell_type": "code",
      "source": [
        "from sklearn.metrics import roc_curve\n",
        "from sklearn.metrics import auc  #area under curve\n",
        "fpr, tpr, score = roc_curve(y_test.ravel(), y_labels.ravel())\n",
        "auc = auc(fpr, tpr)\n",
        "auc   # fpr = \"specificity\"   & tpr = \"sestivity\""
      ],
      "metadata": {
        "id": "GUanXc2Wwvat"
      },
      "execution_count": null,
      "outputs": []
    },
    {
      "cell_type": "code",
      "source": [
        "def plot_roc_curve(fpr, tpr):\n",
        "    plt.figure(figsize=(10,6))\n",
        "    plt.plot(fpr, tpr, color='orange', label='ROC')\n",
        "    plt.plot([0, 1], [0, 1], color='darkblue', linestyle='--')\n",
        "    plt.xlabel('False Positive Rate')\n",
        "    plt.ylabel('True Positive Rate')\n",
        "    plt.title('Receiver Operating Characteristic (ROC) Curve')\n",
        "    plt.legend()\n",
        "    plt.show()"
      ],
      "metadata": {
        "id": "S41O-hbxwvXQ"
      },
      "execution_count": null,
      "outputs": []
    },
    {
      "cell_type": "code",
      "source": [
        "plot_roc_curve(fpr, tpr)"
      ],
      "metadata": {
        "id": "2Omb0uSewvVj",
        "outputId": "1d7c6175-56dd-43c6-9e0a-df82c438fcfa",
        "colab": {
          "base_uri": "https://localhost:8080/",
          "height": 404
        }
      },
      "execution_count": null,
      "outputs": [
        {
          "output_type": "display_data",
          "data": {
            "text/plain": [
              "<Figure size 720x432 with 1 Axes>"
            ],
            "image/png": "[encoded data removed]"
          },
          "metadata": {
            "needs_background": "light"
          }
        }
      ]
    },
    {
      "cell_type": "markdown",
      "source": [
        "🖼️ model prediction"
      ],
      "metadata": {
        "id": "0jrSmH4SxTI_"
      }
    },
    {
      "cell_type": "code",
      "source": [
        "import tensorflow as tf\n",
        "from tensorflow.keras.utils import load_img\n",
        "from tensorflow.keras.utils import img_to_array\n",
        "from tensorflow.keras.applications.resnet50 import preprocess_input\n",
        "\n",
        "m = list()\n",
        "img = '/content/cell_images/Parasitized/C116P77ThinF_IMG_20150930_171809_cell_71.png'\n",
        "img = cv2.imread(img)\n",
        "image_data = cv2.resize(img,(70,70))\n",
        "m.append(image_data)\n",
        "m = np.array(m)"
      ],
      "metadata": {
        "id": "anyeRSwqxG94"
      },
      "execution_count": null,
      "outputs": []
    },
    {
      "cell_type": "code",
      "source": [
        "w = m.reshape(m.shape[0],m.shape[1]*m.shape[2]*m.shape[3])"
      ],
      "metadata": {
        "id": "gMp002t4xG69"
      },
      "execution_count": null,
      "outputs": []
    },
    {
      "cell_type": "code",
      "source": [
        "def show_img(img2):\n",
        "        cv2.imwrite(\"/content/cell_images/Parasitized/C116P77ThinF_IMG_20150930_171809_cell_71.png\", (70,70))\n",
        "        img = cv2.resize(img2, (70,70))\n",
        "        plt.imshow(img2, cmap=plt.cm.binary)\n",
        "        plt.show()\n",
        "show_img(img)        "
      ],
      "metadata": {
        "id": "30pipSv_yMgd",
        "outputId": "5995939a-1af8-42b2-a673-8faeb055f590",
        "colab": {
          "base_uri": "https://localhost:8080/",
          "height": 268
        }
      },
      "execution_count": null,
      "outputs": [
        {
          "output_type": "display_data",
          "data": {
            "text/plain": [
              "<Figure size 432x288 with 1 Axes>"
            ],
            "image/png": "[encoded data removed]"
          },
          "metadata": {
            "needs_background": "light"
          }
        }
      ]
    },
    {
      "cell_type": "code",
      "source": [
        "y_pred = model_svc.predict(w)\n",
        "y_pred = (y_pred > 0.5)\n",
        "\n",
        "if (y_pred==False):\n",
        "    print('Uninfected')\n",
        "else:\n",
        "    print('Parasitized')"
      ],
      "metadata": {
        "id": "f9KuOxHLxG5b",
        "outputId": "51c432a6-8df3-4540-f33f-bc114c6afc5a",
        "colab": {
          "base_uri": "https://localhost:8080/"
        }
      },
      "execution_count": null,
      "outputs": [
        {
          "output_type": "stream",
          "name": "stdout",
          "text": [
            "Parasitized\n"
          ]
        }
      ]
    },
    {
      "cell_type": "markdown",
      "source": [
        "# k fold cross validation\n",
        "![](https://datamines.de/wp-content/uploads/k-Fold-Cross-Validation.gif)"
      ],
      "metadata": {
        "id": "uctGirM3RPK2"
      }
    },
    {
      "cell_type": "code",
      "source": [
        "# k_fold cv\n",
        "from sklearn.model_selection import cross_val_score\n",
        "# 5 fold\n",
        "scores = cross_val_score(model_svc, x_train, y_train, scoring='r2', cv=4)\n"
      ],
      "metadata": {
        "id": "5VydMBaIz7Jm",
        "outputId": "a9ba8492-5c07-495d-f7fb-fdaa8bf664e7",
        "colab": {
          "base_uri": "https://localhost:8080/"
        }
      },
      "execution_count": null,
      "outputs": [
        {
          "metadata": {
            "tags": null
          },
          "name": "stdout",
          "output_type": "stream",
          "text": [
            "[LibSVM]"
          ]
        },
        {
          "metadata": {
            "tags": null
          },
          "name": "stderr",
          "output_type": "stream",
          "text": [
            "/usr/local/lib/python3.8/dist-packages/sklearn/svm/_base.py:284: ConvergenceWarning: Solver terminated early (max_iter=100).  Consider pre-processing your data with StandardScaler or MinMaxScaler.\n",
            "  warnings.warn(\n"
          ]
        },
        {
          "output_type": "stream",
          "name": "stdout",
          "text": [
            "[LibSVM]"
          ]
        },
        {
          "output_type": "stream",
          "name": "stderr",
          "text": [
            "/usr/local/lib/python3.8/dist-packages/sklearn/svm/_base.py:284: ConvergenceWarning: Solver terminated early (max_iter=100).  Consider pre-processing your data with StandardScaler or MinMaxScaler.\n",
            "  warnings.warn(\n"
          ]
        },
        {
          "output_type": "stream",
          "name": "stdout",
          "text": [
            "[LibSVM]"
          ]
        },
        {
          "output_type": "stream",
          "name": "stderr",
          "text": [
            "/usr/local/lib/python3.8/dist-packages/sklearn/svm/_base.py:284: ConvergenceWarning: Solver terminated early (max_iter=100).  Consider pre-processing your data with StandardScaler or MinMaxScaler.\n",
            "  warnings.warn(\n"
          ]
        },
        {
          "output_type": "stream",
          "name": "stdout",
          "text": [
            "[LibSVM]"
          ]
        },
        {
          "output_type": "stream",
          "name": "stderr",
          "text": [
            "/usr/local/lib/python3.8/dist-packages/sklearn/svm/_base.py:284: ConvergenceWarning: Solver terminated early (max_iter=100).  Consider pre-processing your data with StandardScaler or MinMaxScaler.\n",
            "  warnings.warn(\n"
          ]
        }
      ]
    },
    {
      "cell_type": "code",
      "source": [
        "# printing the average score\n",
        "print (np.mean(scores))"
      ],
      "metadata": {
        "id": "aV-cEw2-z7Gw",
        "outputId": "01104fad-76ec-436d-d483-23aedf6ca9dc",
        "colab": {
          "base_uri": "https://localhost:8080/"
        }
      },
      "execution_count": null,
      "outputs": [
        {
          "output_type": "stream",
          "name": "stdout",
          "text": [
            "-0.6482645265533535\n"
          ]
        }
      ]
    },
    {
      "cell_type": "code",
      "source": [
        "from sklearn.model_selection import cross_val_predict\n",
        "pred = cross_val_predict(model_svc, x_test , y_test)\n",
        "pred"
      ],
      "metadata": {
        "id": "cMXd78GIz7FF",
        "outputId": "7d1647a1-0503-47d1-8a1d-7413f1c770ad",
        "colab": {
          "base_uri": "https://localhost:8080/"
        }
      },
      "execution_count": null,
      "outputs": [
        {
          "output_type": "stream",
          "name": "stdout",
          "text": [
            "[LibSVM]"
          ]
        },
        {
          "output_type": "stream",
          "name": "stderr",
          "text": [
            "/usr/local/lib/python3.8/dist-packages/sklearn/svm/_base.py:284: ConvergenceWarning: Solver terminated early (max_iter=100).  Consider pre-processing your data with StandardScaler or MinMaxScaler.\n",
            "  warnings.warn(\n"
          ]
        },
        {
          "output_type": "stream",
          "name": "stdout",
          "text": [
            "[LibSVM]"
          ]
        },
        {
          "output_type": "stream",
          "name": "stderr",
          "text": [
            "/usr/local/lib/python3.8/dist-packages/sklearn/svm/_base.py:284: ConvergenceWarning: Solver terminated early (max_iter=100).  Consider pre-processing your data with StandardScaler or MinMaxScaler.\n",
            "  warnings.warn(\n"
          ]
        },
        {
          "output_type": "stream",
          "name": "stdout",
          "text": [
            "[LibSVM]"
          ]
        },
        {
          "output_type": "stream",
          "name": "stderr",
          "text": [
            "/usr/local/lib/python3.8/dist-packages/sklearn/svm/_base.py:284: ConvergenceWarning: Solver terminated early (max_iter=100).  Consider pre-processing your data with StandardScaler or MinMaxScaler.\n",
            "  warnings.warn(\n"
          ]
        },
        {
          "output_type": "stream",
          "name": "stdout",
          "text": [
            "[LibSVM]"
          ]
        },
        {
          "output_type": "stream",
          "name": "stderr",
          "text": [
            "/usr/local/lib/python3.8/dist-packages/sklearn/svm/_base.py:284: ConvergenceWarning: Solver terminated early (max_iter=100).  Consider pre-processing your data with StandardScaler or MinMaxScaler.\n",
            "  warnings.warn(\n"
          ]
        },
        {
          "output_type": "stream",
          "name": "stdout",
          "text": [
            "[LibSVM]"
          ]
        },
        {
          "output_type": "stream",
          "name": "stderr",
          "text": [
            "/usr/local/lib/python3.8/dist-packages/sklearn/svm/_base.py:284: ConvergenceWarning: Solver terminated early (max_iter=100).  Consider pre-processing your data with StandardScaler or MinMaxScaler.\n",
            "  warnings.warn(\n"
          ]
        },
        {
          "output_type": "execute_result",
          "data": {
            "text/plain": [
              "array([1, 1, 1, ..., 1, 0, 0])"
            ]
          },
          "metadata": {},
          "execution_count": 17
        }
      ]
    }
  ],
  "metadata": {
    "colab": {
      "provenance": [],
      "authorship_tag": "ABX9TyP/GIQI/dMcYyyZ8yrdXg9c",
      "include_colab_link": true
    },
    "kernelspec": {
      "display_name": "Python 3",
      "name": "python3"
    },
    "language_info": {
      "name": "python"
    }
  },
  "nbformat": 4,
  "nbformat_minor": 0
}